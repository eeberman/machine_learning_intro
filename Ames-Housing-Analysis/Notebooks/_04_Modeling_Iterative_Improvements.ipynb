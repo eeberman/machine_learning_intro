{
 "cells": [
  {
   "cell_type": "code",
   "execution_count": 9,
   "id": "77284978-e56d-44d6-8953-6db2b47c0f6b",
   "metadata": {},
   "outputs": [
    {
     "name": "stdout",
     "output_type": "stream",
     "text": [
      "0       215000\n",
      "1       105000\n",
      "2       172000\n",
      "3       244000\n",
      "4       189900\n",
      "         ...  \n",
      "2925    142500\n",
      "2926    131000\n",
      "2927    132000\n",
      "2928    170000\n",
      "2929    188000\n",
      "Name: SalePrice, Length: 2930, dtype: int64\n"
     ]
    }
   ],
   "source": [
    "from importnb import Notebook\n",
    "\n",
    "with Notebook():\n",
    "    import _03_inital_regression\n",
    "\n",
    "# Now you can access variables and functions from file_a\n",
    "print(_03_inital_regression.df['SalePrice'])"
   ]
  },
  {
   "cell_type": "code",
   "execution_count": null,
   "id": "a241b399-8c84-457e-b5bf-6817819fa22e",
   "metadata": {},
   "outputs": [],
   "source": []
  }
 ],
 "metadata": {
  "kernelspec": {
   "display_name": "Python 3 (ipykernel)",
   "language": "python",
   "name": "python3"
  },
  "language_info": {
   "codemirror_mode": {
    "name": "ipython",
    "version": 3
   },
   "file_extension": ".py",
   "mimetype": "text/x-python",
   "name": "python",
   "nbconvert_exporter": "python",
   "pygments_lexer": "ipython3",
   "version": "3.9.7"
  }
 },
 "nbformat": 4,
 "nbformat_minor": 5
}
