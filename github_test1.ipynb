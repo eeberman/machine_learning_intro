{
 "cells": [
  {
   "cell_type": "code",
   "execution_count": 1,
   "id": "17d2f3ad-6d58-467d-9174-0c579cc19d4a",
   "metadata": {},
   "outputs": [
    {
     "name": "stdout",
     "output_type": "stream",
     "text": [
      "hello github\n"
     ]
    }
   ],
   "source": [
    "print(\"hello github\")"
   ]
  },
  {
   "cell_type": "code",
   "execution_count": null,
   "id": "a0e2caeb-4208-4117-b7c0-6d8fe252e3ae",
   "metadata": {},
   "outputs": [],
   "source": []
  }
 ],
 "metadata": {
  "kernelspec": {
   "display_name": "Python 3 (ipykernel)",
   "language": "python",
   "name": "python3"
  },
  "language_info": {
   "codemirror_mode": {
    "name": "ipython",
    "version": 3
   },
   "file_extension": ".py",
   "mimetype": "text/x-python",
   "name": "python",
   "nbconvert_exporter": "python",
   "pygments_lexer": "ipython3",
   "version": "3.12.5"
  }
 },
 "nbformat": 4,
 "nbformat_minor": 5
}
